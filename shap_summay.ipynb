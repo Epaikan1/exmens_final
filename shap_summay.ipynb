{
 "cells": [
  {
   "cell_type": "code",
   "execution_count": null,
   "metadata": {},
   "outputs": [],
   "source": [
    "import pandas as pd\n",
    "import joblib\n",
    "import shap\n",
    "import matplotlib.pyplot as plt\n",
    "\n",
    "# Charger le modèle\n",
    "pipeline_model = joblib.load(\"model.pkl\")\n",
    "\n",
    "# Charger exactement le même X_train utilisé à l'entraînement\n",
    "X = pd.read_csv(\"X_train_used.csv\")\n",
    "\n",
    "# Transformer avec le scaler du pipeline\n",
    "X_transformed = pipeline_model.named_steps['scaler'].transform(X)\n",
    "\n",
    "# Utiliser uniquement la partie 'clf' pour SHAP\n",
    "explainer = shap.Explainer(pipeline_model.named_steps['clf'], X_transformed)\n",
    "shap_values = explainer(X_transformed)\n",
    "\n",
    "# Graphique résumé (SHAP global)\n",
    "shap.summary_plot(shap_values, features=X, feature_names=X.columns)\n",
    "\n",
    "# Optionnel : barplot global\n",
    "shap.summary_plot(shap_values, features=X, feature_names=X.columns, plot_type=\"bar\")\n"
   ]
  }
 ],
 "metadata": {
  "language_info": {
   "name": "python"
  }
 },
 "nbformat": 4,
 "nbformat_minor": 2
}
